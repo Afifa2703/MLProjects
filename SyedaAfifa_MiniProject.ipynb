{
  "nbformat": 4,
  "nbformat_minor": 0,
  "metadata": {
    "colab": {
      "name": "SyedaAfifa_MiniProject.ipynb",
      "provenance": [],
      "collapsed_sections": [],
      "authorship_tag": "ABX9TyN3EsmlTgC8McujramEe646",
      "include_colab_link": true
    },
    "kernelspec": {
      "name": "python3",
      "display_name": "Python 3"
    },
    "language_info": {
      "name": "python"
    }
  },
  "cells": [
    {
      "cell_type": "markdown",
      "metadata": {
        "id": "view-in-github",
        "colab_type": "text"
      },
      "source": [
        "<a href=\"https://colab.research.google.com/github/Afifa2703/MLProjects/blob/main/SyedaAfifa_MiniProject.ipynb\" target=\"_parent\"><img src=\"https://colab.research.google.com/assets/colab-badge.svg\" alt=\"Open In Colab\"/></a>"
      ]
    },
    {
      "cell_type": "markdown",
      "metadata": {
        "id": "9434kuV1-4xn"
      },
      "source": [
        "# **COMPARATIVE ANALYSIS OF HEALTHCARE DATASET**\n",
        "\n",
        "\n"
      ]
    },
    {
      "cell_type": "code",
      "metadata": {
        "id": "33WeTwfk-dbH"
      },
      "source": [
        "import pandas as pd\n",
        "from sklearn.model_selection import train_test_split\n",
        "from sklearn.svm import SVC\n",
        "from sklearn.neighbors import KNeighborsClassifier\n",
        "from sklearn.linear_model import LogisticRegression\n",
        "from sklearn.tree import DecisionTreeClassifier\n",
        "from sklearn.ensemble import RandomForestClassifier\n",
        "from mlxtend.plotting import plot_decision_regions\n",
        "from sklearn.metrics import f1_score\n",
        "import matplotlib.pyplot as plt   "
      ],
      "execution_count": null,
      "outputs": []
    },
    {
      "cell_type": "code",
      "metadata": {
        "id": "bUuv_rCF_0FR"
      },
      "source": [
        "dataset = pd.read_csv('healthcare-dataset-stroke-data.csv')\n",
        "print(dataset.head())"
      ],
      "execution_count": null,
      "outputs": []
    },
    {
      "cell_type": "code",
      "metadata": {
        "id": "rqOyyGAv_5UW"
      },
      "source": [
        "dataset.drop('id',axis=1,inplace=True)\n",
        "print(dataset)"
      ],
      "execution_count": null,
      "outputs": []
    },
    {
      "cell_type": "code",
      "metadata": {
        "id": "HxNmhTO1AzM6"
      },
      "source": [
        "print(dataset.smoking_status.unique())\n",
        "print(dataset.gender.unique())\n",
        "print(dataset.hypertension.unique())\n",
        "print(dataset.heart_disease.unique())\n",
        "print(dataset.ever_married.unique())\n",
        "print(dataset.Residence_type.unique())\n",
        "print(dataset.work_type.unique())"
      ],
      "execution_count": null,
      "outputs": []
    },
    {
      "cell_type": "code",
      "metadata": {
        "id": "_ZyEGfgMA2t3"
      },
      "source": [
        "smoking_status_to_num = {'never smoked': 0,'smokes': 1,'formerly smoked': 2}\n",
        "temp = dataset['smoking_status'].map(smoking_status_to_num)\n",
        "print(temp)\n",
        "dataset['smoking_status']=temp"
      ],
      "execution_count": null,
      "outputs": []
    },
    {
      "cell_type": "code",
      "metadata": {
        "id": "DIPL4liSA5p6"
      },
      "source": [
        "Residence_type_to_num={'Urban':0,'Rural':1}\n",
        "temp1=dataset['Residence_type'].map(Residence_type_to_num)\n",
        "print(temp1)\n",
        "dataset['Residence_type']=temp1"
      ],
      "execution_count": null,
      "outputs": []
    },
    {
      "cell_type": "code",
      "metadata": {
        "id": "3uNCzEj7A8vE"
      },
      "source": [
        "work_type_to_num={'Private':0,'Self-employed':1,'Govt_job':2,'Never_worked':3}\n",
        "temp2=dataset['work_type'].map(work_type_to_num)\n",
        "print(temp2)\n",
        "dataset['work_type']=temp2"
      ],
      "execution_count": null,
      "outputs": []
    },
    {
      "cell_type": "code",
      "metadata": {
        "id": "0qgBNKg9BAZb"
      },
      "source": [
        "gender_to_num={'Male':0,'Female':1}\n",
        "temp3=dataset['gender'].map(gender_to_num)\n",
        "print(temp3)\n",
        "dataset['gender']=temp3"
      ],
      "execution_count": null,
      "outputs": []
    },
    {
      "cell_type": "code",
      "metadata": {
        "id": "fZ5foBA_BTEu"
      },
      "source": [
        "ever_married_to_num={'Yes':0,'No':1}\n",
        "temp4=dataset['ever_married'].map(ever_married_to_num)\n",
        "print(temp4)\n",
        "dataset['ever_married']=temp4"
      ],
      "execution_count": null,
      "outputs": []
    },
    {
      "cell_type": "code",
      "metadata": {
        "id": "eH4CDzt7BV98"
      },
      "source": [
        "print(dataset)"
      ],
      "execution_count": null,
      "outputs": []
    },
    {
      "cell_type": "code",
      "metadata": {
        "id": "6KKGto1kBYbF"
      },
      "source": [
        "X=dataset.drop('stroke',axis=1)\n",
        "print(X)\n",
        "\n",
        "Y=dataset['stroke']\n",
        "print(Y)"
      ],
      "execution_count": null,
      "outputs": []
    },
    {
      "cell_type": "code",
      "metadata": {
        "id": "VYtOJTPpBcLr"
      },
      "source": [
        "X1=dataset.loc[:,['age','bmi']]\n",
        "X1=X1.to_numpy()\n",
        "Y1=Y.to_numpy()\n",
        "X_train,X_test,Y_train,Y_test=train_test_split(X,Y,test_size=0.2)"
      ],
      "execution_count": null,
      "outputs": []
    },
    {
      "cell_type": "markdown",
      "metadata": {
        "id": "110PcyuGLTkZ"
      },
      "source": [
        "# **SVM Linear Kernel**"
      ]
    },
    {
      "cell_type": "code",
      "metadata": {
        "id": "weOUYaf9BiVF"
      },
      "source": [
        "svm = SVC(kernel='linear')\n",
        "svm.fit(X1,Y1)\n",
        "plot_decision_regions(X=X1,y=Y1,clf=svm)"
      ],
      "execution_count": null,
      "outputs": []
    },
    {
      "cell_type": "code",
      "metadata": {
        "id": "sLt3N2pOBozH"
      },
      "source": [
        "svm=SVC(kernel='linear')\n",
        "svm.fit(X_train,Y_train)\n",
        "predict=svm.predict(X_test)\n",
        "SVM_f1=f1_score(Y_test,predict)\n",
        "SVM_f1"
      ],
      "execution_count": null,
      "outputs": []
    },
    {
      "cell_type": "markdown",
      "metadata": {
        "id": "kbL6DStWLa-h"
      },
      "source": [
        "# **KNN ALGORITHM**"
      ]
    },
    {
      "cell_type": "code",
      "metadata": {
        "id": "Ljy1z5IxBtUT"
      },
      "source": [
        "knn=KNeighborsClassifier()\n",
        "knn.fit(X1,Y1)\n",
        "plot_decision_regions(X=X1,y=Y1,clf=knn)"
      ],
      "execution_count": null,
      "outputs": []
    },
    {
      "cell_type": "code",
      "metadata": {
        "id": "TZszdtpDBxvx"
      },
      "source": [
        "knn=KNeighborsClassifier()\n",
        "knn.fit(X_train,Y_train)\n",
        "predict=knn.predict(X_test)\n",
        "knn_f1=f1_score(Y_test,predict)\n",
        "knn_f1"
      ],
      "execution_count": null,
      "outputs": []
    },
    {
      "cell_type": "markdown",
      "metadata": {
        "id": "e90gtGxfLlJI"
      },
      "source": [
        "# **Logistic Regression**"
      ]
    },
    {
      "cell_type": "code",
      "metadata": {
        "id": "rmVdd732B5Aw"
      },
      "source": [
        "lo=LogisticRegression()\n",
        "lo.fit(X1,Y1)\n",
        "plot_decision_regions(X=X1,y=Y1,clf=lo)"
      ],
      "execution_count": null,
      "outputs": []
    },
    {
      "cell_type": "code",
      "metadata": {
        "id": "FTcM3xOyB659"
      },
      "source": [
        "lo=LogisticRegression()\n",
        "lo.fit(X_train,Y_train)\n",
        "predict=lo.predict(X_test)\n",
        "lo_f1=f1_score(Y_test,predict)\n",
        "lo_f1"
      ],
      "execution_count": null,
      "outputs": []
    },
    {
      "cell_type": "markdown",
      "metadata": {
        "id": "0rAU2qGJL5iZ"
      },
      "source": [
        "# **Decision Tree**"
      ]
    },
    {
      "cell_type": "code",
      "metadata": {
        "id": "R3va_93_B9jH"
      },
      "source": [
        "dt=DecisionTreeClassifier()\n",
        "dt.fit(X1,Y1)\n",
        "plot_decision_regions(X=X1,y=Y1,clf=dt)"
      ],
      "execution_count": null,
      "outputs": []
    },
    {
      "cell_type": "code",
      "metadata": {
        "id": "CrWM0V8uCAj1"
      },
      "source": [
        "dt=DecisionTreeClassifier()\n",
        "dt.fit(X_train,Y_train)\n",
        "predict=dt.predict(X_test)\n",
        "dt_f1=f1_score(Y_test,predict)\n",
        "dt_f1"
      ],
      "execution_count": null,
      "outputs": []
    },
    {
      "cell_type": "markdown",
      "metadata": {
        "id": "mN5yI8ejMAVI"
      },
      "source": [
        "# **Random Forest**"
      ]
    },
    {
      "cell_type": "code",
      "metadata": {
        "id": "E__lFvfACDHC"
      },
      "source": [
        "rf=RandomForestClassifier()\n",
        "rf.fit(X1,Y1)\n",
        "plot_decision_regions(X=X1,y=Y1,clf=rf)"
      ],
      "execution_count": null,
      "outputs": []
    },
    {
      "cell_type": "code",
      "metadata": {
        "id": "IIfTg1TDCHTJ"
      },
      "source": [
        "rf=RandomForestClassifier()\n",
        "rf.fit(X_train,Y_train)\n",
        "predict=rf.predict(X_test)\n",
        "rf_f1=f1_score(Y_test,predict)\n",
        "rf_f1"
      ],
      "execution_count": null,
      "outputs": []
    },
    {
      "cell_type": "markdown",
      "metadata": {
        "id": "lb7NcsACMKpL"
      },
      "source": [
        "# **Graph between Algorithms and Accuracies**"
      ]
    },
    {
      "cell_type": "code",
      "metadata": {
        "id": "3AV9U3mOCLvT"
      },
      "source": [
        "SVM_f1*=100\n",
        "SVM_f1"
      ],
      "execution_count": null,
      "outputs": []
    },
    {
      "cell_type": "code",
      "metadata": {
        "id": "-Fp9VL_MCMd3"
      },
      "source": [
        "knn_f1*=100\n",
        "knn_f1"
      ],
      "execution_count": null,
      "outputs": []
    },
    {
      "cell_type": "code",
      "metadata": {
        "id": "f0MrwgTkCPo9"
      },
      "source": [
        "dt_f1*=100\n",
        "dt_f1"
      ],
      "execution_count": null,
      "outputs": []
    },
    {
      "cell_type": "code",
      "metadata": {
        "id": "PnoL3BOFCVmF"
      },
      "source": [
        "lo_f1*=100\n",
        "lo_f1"
      ],
      "execution_count": null,
      "outputs": []
    },
    {
      "cell_type": "code",
      "metadata": {
        "id": "rlNrXszACegv"
      },
      "source": [
        "rf_f1*=100\n",
        "rf_f1"
      ],
      "execution_count": null,
      "outputs": []
    },
    {
      "cell_type": "code",
      "metadata": {
        "id": "4YxceoxfCgj-"
      },
      "source": [
        "plt.bar(['SVM linear','KNN','Decision Tree','Logistic ','Random Forest'],[SVM_f1,knn_f1,dt_f1,lo_f1,rf_f1])\n",
        "plt.xlabel(\"Algorithms\")\n",
        "plt.ylabel(\"F1_score %\")\n",
        "plt.show()"
      ],
      "execution_count": null,
      "outputs": []
    }
  ]
}